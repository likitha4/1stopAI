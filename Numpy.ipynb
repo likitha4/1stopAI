{
 "cells": [
  {
   "cell_type": "code",
   "execution_count": 1,
   "metadata": {},
   "outputs": [],
   "source": [
    "import numpy as np"
   ]
  },
  {
   "cell_type": "code",
   "execution_count": 2,
   "metadata": {},
   "outputs": [
    {
     "name": "stdout",
     "output_type": "stream",
     "text": [
      "int32\n"
     ]
    }
   ],
   "source": [
    "#numpy types\n",
    "datatype=np.dtype(np.int32)\n",
    "print(datatype)"
   ]
  },
  {
   "cell_type": "code",
   "execution_count": 3,
   "metadata": {},
   "outputs": [
    {
     "name": "stdout",
     "output_type": "stream",
     "text": [
      "int32\n",
      "int8\n",
      "int16\n",
      "int64\n"
     ]
    }
   ],
   "source": [
    "dt1=np.dtype('i4')\n",
    "dt2=np.dtype('i1')\n",
    "dt3=np.dtype('i2')\n",
    "dt4=np.dtype('i8')\n",
    "print(dt1,dt2,dt3,dt4,sep='\\n')"
   ]
  },
  {
   "cell_type": "code",
   "execution_count": 4,
   "metadata": {},
   "outputs": [
    {
     "name": "stdout",
     "output_type": "stream",
     "text": [
      ">i8\n"
     ]
    }
   ],
   "source": [
    "#endian notation\n",
    "end=np.dtype('>i8')\n",
    "print(end)"
   ]
  },
  {
   "cell_type": "code",
   "execution_count": 5,
   "metadata": {},
   "outputs": [
    {
     "name": "stdout",
     "output_type": "stream",
     "text": [
      "<class 'bool'>\n",
      "<class 'int'>\n",
      "<class 'float'>\n",
      "<class 'numpy.int16'>\n",
      "<class 'numpy.int8'>\n",
      "<class 'numpy.int64'>\n",
      "<class 'numpy.float64'>\n",
      "<class 'numpy.complex128'>\n",
      "<class 'numpy.complex64'>\n",
      "<class 'numpy.float32'>\n"
     ]
    }
   ],
   "source": [
    "#numpy data types\n",
    "k=np.bool\n",
    "m=np.int\n",
    "n=np.float\n",
    "p=np.short\n",
    "q=np.byte\n",
    "r=np.longlong\n",
    "s=np.double\n",
    "t=np.cdouble\n",
    "u=np.csingle\n",
    "v=np.single\n",
    "print(k,m,n,p,q,r,s,t,u,v,sep='\\n')"
   ]
  },
  {
   "cell_type": "code",
   "execution_count": 6,
   "metadata": {},
   "outputs": [
    {
     "name": "stdout",
     "output_type": "stream",
     "text": [
      "[ 1  2 34 -5]\n",
      "[ 1.  2. 34. -5.]\n",
      "[                   1                    2                   34\n",
      " 18446744073709551611]\n",
      "[ 1  2 34 -5]\n",
      "[b'1' b'2' b'3' b'-']\n"
     ]
    }
   ],
   "source": [
    "print(np.array([1,2,34,-5],dtype='i'))\n",
    "print(np.array([1,2,34,-5],dtype='f'))\n",
    "print(np.array([1,2,34,-5],dtype=np.uint64))#unsigned integer 64 bits\n",
    "print(np.array([1,2,34,-5],dtype=np.int64))\n",
    "print(np.array([1,2,34,-5],dtype='c'))#doubt\n",
    "\n"
   ]
  },
  {
   "cell_type": "code",
   "execution_count": 7,
   "metadata": {},
   "outputs": [
    {
     "name": "stdout",
     "output_type": "stream",
     "text": [
      "[ 30.4   44.98 -45.98]\n",
      "[        30         44 4294967251]\n"
     ]
    }
   ],
   "source": [
    "#conversion of dtype of an array\n",
    "type1=np.dtype(np.uint32)#unsigned integer\n",
    "abc1=np.array([(30.4),(44.98),(-45.98)])\n",
    "abc=np.array([(30.4),(44.98),(-45.98)],dtype=type1)\n",
    "print(abc1,abc,sep='\\n')"
   ]
  },
  {
   "cell_type": "code",
   "execution_count": 8,
   "metadata": {},
   "outputs": [
    {
     "name": "stdout",
     "output_type": "stream",
     "text": [
      "<class 'numpy.ndarray'>\n",
      "int32\n",
      "[5.500000e+01 8.875653e+06 9.867654e+07]\n",
      "[5.5000000e+01+0.j 8.8756530e+06+0.j 9.8676542e+07+0.j]\n",
      "[5.500000e+01 8.875653e+06 9.867654e+07]\n",
      "float32\n"
     ]
    }
   ],
   "source": [
    "ap=np.array([55.9875467,8875653,98676542],dtype=np.int32)\n",
    "print(type(ap))\n",
    "print(ap.dtype)\n",
    "print(np.float32(ap))\n",
    "print(np.cdouble(ap))#c-complex\n",
    "print(ap.astype(np.single))#single-float32\n",
    "l=ap.astype(np.single)\n",
    "print(l.dtype)"
   ]
  },
  {
   "cell_type": "code",
   "execution_count": 9,
   "metadata": {},
   "outputs": [
    {
     "name": "stdout",
     "output_type": "stream",
     "text": [
      "[ 23.     78.     97.     -9.     -2.    -66.989]\n",
      "float64\n"
     ]
    }
   ],
   "source": [
    "#numpy arrays\n",
    "a=np.array([23,78,97,-9,-2,-66.989])\n",
    "print(a,a.dtype,sep='\\n')"
   ]
  },
  {
   "cell_type": "code",
   "execution_count": 10,
   "metadata": {},
   "outputs": [
    {
     "name": "stdout",
     "output_type": "stream",
     "text": [
      "[[ 12.    98.   876.98]\n",
      " [ 98.    76.   -75.  ]]\n"
     ]
    }
   ],
   "source": [
    "b=np.array([[12,98,876.98],[98,76,-75]])\n",
    "print(b)"
   ]
  },
  {
   "cell_type": "code",
   "execution_count": 11,
   "metadata": {},
   "outputs": [
    {
     "name": "stdout",
     "output_type": "stream",
     "text": [
      "[[list([34, 87, 9778, 7764, 643212, 970856])\n",
      "  list([87545, 9864, 98, 9886]) list([8755, 867, 0.98, 987, -9])]]\n"
     ]
    }
   ],
   "source": [
    "c=np.array([[[34,87,9778,7764,643212,970856],[87545,9864,98,9886],\n",
    "           [8755,867,0.98,987,-9]]],ndmin=2)\n",
    "print(c)"
   ]
  },
  {
   "cell_type": "code",
   "execution_count": 12,
   "metadata": {},
   "outputs": [
    {
     "data": {
      "text/plain": [
       "array([[1., 0., 0., 0.],\n",
       "       [0., 1., 0., 0.],\n",
       "       [0., 0., 1., 0.],\n",
       "       [0., 0., 0., 1.]])"
      ]
     },
     "execution_count": 12,
     "metadata": {},
     "output_type": "execute_result"
    }
   ],
   "source": [
    "np.eye(4,4)"
   ]
  },
  {
   "cell_type": "code",
   "execution_count": 13,
   "metadata": {},
   "outputs": [
    {
     "data": {
      "text/plain": [
       "array([[0., 0., 0.],\n",
       "       [0., 0., 0.],\n",
       "       [0., 0., 0.]])"
      ]
     },
     "execution_count": 13,
     "metadata": {},
     "output_type": "execute_result"
    }
   ],
   "source": [
    "np.zeros((3,3))"
   ]
  },
  {
   "cell_type": "code",
   "execution_count": 14,
   "metadata": {},
   "outputs": [
    {
     "data": {
      "text/plain": [
       "array([[1., 1.],\n",
       "       [1., 1.],\n",
       "       [1., 1.],\n",
       "       [1., 1.]])"
      ]
     },
     "execution_count": 14,
     "metadata": {},
     "output_type": "execute_result"
    }
   ],
   "source": [
    "np.ones((4,2))"
   ]
  },
  {
   "cell_type": "code",
   "execution_count": 15,
   "metadata": {},
   "outputs": [
    {
     "data": {
      "text/plain": [
       "array([20, 22, 24, 26, 28])"
      ]
     },
     "execution_count": 15,
     "metadata": {},
     "output_type": "execute_result"
    }
   ],
   "source": [
    "np.arange(20,30,2)"
   ]
  },
  {
   "cell_type": "code",
   "execution_count": 16,
   "metadata": {},
   "outputs": [
    {
     "data": {
      "text/plain": [
       "array([ 4. ,  5.5,  7. ,  8.5, 10. ])"
      ]
     },
     "execution_count": 16,
     "metadata": {},
     "output_type": "execute_result"
    }
   ],
   "source": [
    "np.linspace(4,10,5)"
   ]
  },
  {
   "cell_type": "code",
   "execution_count": 17,
   "metadata": {},
   "outputs": [
    {
     "name": "stdout",
     "output_type": "stream",
     "text": [
      "[list([20, 98.76, -67, -763]) ('hey', 98.08)]\n",
      "[  20   98  -67 -763]\n"
     ]
    }
   ],
   "source": [
    "print(np.array([[20,98.76,-67,-763],('hey',98.08)]))\n",
    "      \n",
    "print(np.array([20,98.76,-67,-763],dtype=int))"
   ]
  },
  {
   "cell_type": "code",
   "execution_count": 18,
   "metadata": {},
   "outputs": [
    {
     "name": "stdout",
     "output_type": "stream",
     "text": [
      "float64\n"
     ]
    }
   ],
   "source": [
    "sh=np.array([34,98.87,0.98])\n",
    "print(sh.dtype)"
   ]
  },
  {
   "cell_type": "code",
   "execution_count": 19,
   "metadata": {},
   "outputs": [
    {
     "name": "stdout",
     "output_type": "stream",
     "text": [
      "(1, 3)\n",
      "[[list([34, 90, 678, 0.987, -0.99])]\n",
      " [list(['67', '54', '644.00'])]\n",
      " [list(['hey', 'good', 'hello'])]]\n"
     ]
    }
   ],
   "source": [
    "k=np.array([[[34,90,678,0.987,-0.99],['67','54','644.00'],['hey','good','hello']]])\n",
    "print(k.shape)\n",
    "print(k.reshape(3,1))"
   ]
  },
  {
   "cell_type": "code",
   "execution_count": 20,
   "metadata": {},
   "outputs": [
    {
     "name": "stdout",
     "output_type": "stream",
     "text": [
      "[[list([34, 90, 678, 987, 99]) list([67, 54, 644]) list([56, 12, 30])]]\n",
      "(1, 3)\n",
      "[[list([34, 90, 678, 987, 99])]\n",
      " [list([67, 54, 644])]\n",
      " [list([56, 12, 30])]]\n"
     ]
    }
   ],
   "source": [
    "\n",
    "shi=np.array([[[34,90,678,987,99],[67,54,644],[56,12,30]]])\n",
    "print(shi)\n",
    "print(shi.shape)\n",
    "print(shi.reshape(3,1))\n"
   ]
  },
  {
   "cell_type": "code",
   "execution_count": 21,
   "metadata": {},
   "outputs": [
    {
     "name": "stdout",
     "output_type": "stream",
     "text": [
      "[-10  -1   8  17  26  35  44  53  62  71  80  89  98 107 116 125]\n",
      "16\n"
     ]
    }
   ],
   "source": [
    "m=np.arange(-10,130,9)\n",
    "print(m)\n",
    "print(len(m))"
   ]
  },
  {
   "cell_type": "code",
   "execution_count": 22,
   "metadata": {},
   "outputs": [
    {
     "name": "stdout",
     "output_type": "stream",
     "text": [
      "[[-10  -1   8  17]\n",
      " [ 26  35  44  53]\n",
      " [ 62  71  80  89]\n",
      " [ 98 107 116 125]]\n",
      "[[-10  -1]\n",
      " [  8  17]\n",
      " [ 26  35]\n",
      " [ 44  53]\n",
      " [ 62  71]\n",
      " [ 80  89]\n",
      " [ 98 107]\n",
      " [116 125]]\n"
     ]
    }
   ],
   "source": [
    "print(m.reshape(4,4))\n",
    "print(m.reshape(8,2))"
   ]
  },
  {
   "cell_type": "code",
   "execution_count": 23,
   "metadata": {},
   "outputs": [
    {
     "data": {
      "text/plain": [
       "array([[[ 0,  1,  2,  3,  4,  5,  6],\n",
       "        [ 7,  8,  9, 10, 11, 12, 13],\n",
       "        [14, 15, 16, 17, 18, 19, 20]],\n",
       "\n",
       "       [[21, 22, 23, 24, 25, 26, 27],\n",
       "        [28, 29, 30, 31, 32, 33, 34],\n",
       "        [35, 36, 37, 38, 39, 40, 41]],\n",
       "\n",
       "       [[42, 43, 44, 45, 46, 47, 48],\n",
       "        [49, 50, 51, 52, 53, 54, 55],\n",
       "        [56, 57, 58, 59, 60, 61, 62]]])"
      ]
     },
     "execution_count": 23,
     "metadata": {},
     "output_type": "execute_result"
    }
   ],
   "source": [
    "nim=np.arange(63)\n",
    "nim.reshape(3,3,7)"
   ]
  },
  {
   "cell_type": "code",
   "execution_count": 24,
   "metadata": {},
   "outputs": [
    {
     "name": "stdout",
     "output_type": "stream",
     "text": [
      "63\n",
      "(63,)\n",
      "1\n",
      "4\n",
      "252\n"
     ]
    }
   ],
   "source": [
    "print(nim.size)#no.of elements in the array\n",
    "print(nim.shape)\n",
    "print(nim.ndim)#no.of dimensions of the array\n",
    "print(nim.itemsize)#no.of bytes for each value \n",
    "print(nim.nbytes)#total no.of bytes for all the values"
   ]
  },
  {
   "cell_type": "code",
   "execution_count": 25,
   "metadata": {},
   "outputs": [
    {
     "data": {
      "text/plain": [
       "array([10, 11, 12, 13, 14, 15, 16, 17, 18, 19, 20, 21, 22, 23, 24, 25, 26,\n",
       "       27, 28, 29, 30, 31, 32, 33, 34, 35, 36, 37, 38, 39, 40, 41, 42, 43,\n",
       "       44, 45, 46, 47, 48, 49, 50, 51, 52, 53, 54, 55, 56, 57, 58, 59, 60,\n",
       "       61, 62])"
      ]
     },
     "execution_count": 25,
     "metadata": {},
     "output_type": "execute_result"
    }
   ],
   "source": [
    "nim[10:]"
   ]
  },
  {
   "cell_type": "code",
   "execution_count": 26,
   "metadata": {
    "scrolled": true
   },
   "outputs": [
    {
     "name": "stdout",
     "output_type": "stream",
     "text": [
      "2 \n",
      "\n",
      "[[11 11]\n",
      " [ 6 11]\n",
      " [10  5]\n",
      " [ 3  9]\n",
      " [ 2  3]\n",
      " [17 14]\n",
      " [ 0  3]\n",
      " [ 5 16]\n",
      " [17 17]]\n",
      " [[11 11  6 11 10  5  3  9  2]\n",
      " [ 3 17 14  0  3  5 16 17 17]]\n",
      "[[ 5]\n",
      " [ 9]\n",
      " [ 3]\n",
      " [14]\n",
      " [ 3]\n",
      " [16]\n",
      " [17]] \n",
      "\n"
     ]
    }
   ],
   "source": [
    "y=np.random.randint(18,size=(9,2))\n",
    "print(y.ndim,\"\\n\")\n",
    "print(y,y.reshape(2,9),sep=\"\\n \")\n",
    "print(y[2:,1:],\"\\n\")"
   ]
  },
  {
   "cell_type": "code",
   "execution_count": 27,
   "metadata": {},
   "outputs": [
    {
     "name": "stdout",
     "output_type": "stream",
     "text": [
      "[[[ 0  1  9  0  4]\n",
      "  [22  9 24  8  3]\n",
      "  [13 15 25  2  0]\n",
      "  [10 19 17 12 11]]\n",
      "\n",
      " [[22  9  9 26 17]\n",
      "  [15  3 12 22 14]\n",
      "  [20 21  7  0 11]\n",
      "  [25 24 26 11  2]]\n",
      "\n",
      " [[16  9 23 10 16]\n",
      "  [ 4  2 16 23 10]\n",
      "  [18  7 12 26 23]\n",
      "  [ 2 19 23 23 17]]] \n",
      "\n",
      "3 \n",
      "\n",
      "[[[24  8]]] \n",
      "\n",
      "[[[ 0 11]\n",
      "  [11  2]]\n",
      "\n",
      " [[26 23]\n",
      "  [23 17]]]\n"
     ]
    }
   ],
   "source": [
    "x=np.random.randint(27,size=(3,4,5))\n",
    "print(x,\"\\n\")\n",
    "print(x.ndim,\"\\n\")\n",
    "print(x[0:1,1:2,-3:-1],\"\\n\")\n",
    "print(x[1:,2:,3:])"
   ]
  },
  {
   "cell_type": "code",
   "execution_count": 28,
   "metadata": {},
   "outputs": [
    {
     "name": "stdout",
     "output_type": "stream",
     "text": [
      "Help on class slice in module builtins:\n",
      "\n",
      "class slice(object)\n",
      " |  slice(stop)\n",
      " |  slice(start, stop[, step])\n",
      " |  \n",
      " |  Create a slice object.  This is used for extended slicing (e.g. a[0:10:2]).\n",
      " |  \n",
      " |  Methods defined here:\n",
      " |  \n",
      " |  __eq__(self, value, /)\n",
      " |      Return self==value.\n",
      " |  \n",
      " |  __ge__(self, value, /)\n",
      " |      Return self>=value.\n",
      " |  \n",
      " |  __getattribute__(self, name, /)\n",
      " |      Return getattr(self, name).\n",
      " |  \n",
      " |  __gt__(self, value, /)\n",
      " |      Return self>value.\n",
      " |  \n",
      " |  __le__(self, value, /)\n",
      " |      Return self<=value.\n",
      " |  \n",
      " |  __lt__(self, value, /)\n",
      " |      Return self<value.\n",
      " |  \n",
      " |  __ne__(self, value, /)\n",
      " |      Return self!=value.\n",
      " |  \n",
      " |  __reduce__(...)\n",
      " |      Return state information for pickling.\n",
      " |  \n",
      " |  __repr__(self, /)\n",
      " |      Return repr(self).\n",
      " |  \n",
      " |  indices(...)\n",
      " |      S.indices(len) -> (start, stop, stride)\n",
      " |      \n",
      " |      Assuming a sequence of length len, calculate the start and stop\n",
      " |      indices, and the stride length of the extended slice described by\n",
      " |      S. Out of bounds indices are clipped in a manner consistent with the\n",
      " |      handling of normal slices.\n",
      " |  \n",
      " |  ----------------------------------------------------------------------\n",
      " |  Static methods defined here:\n",
      " |  \n",
      " |  __new__(*args, **kwargs) from builtins.type\n",
      " |      Create and return a new object.  See help(type) for accurate signature.\n",
      " |  \n",
      " |  ----------------------------------------------------------------------\n",
      " |  Data descriptors defined here:\n",
      " |  \n",
      " |  start\n",
      " |  \n",
      " |  step\n",
      " |  \n",
      " |  stop\n",
      " |  \n",
      " |  ----------------------------------------------------------------------\n",
      " |  Data and other attributes defined here:\n",
      " |  \n",
      " |  __hash__ = None\n",
      "\n"
     ]
    }
   ],
   "source": [
    "help(slice)"
   ]
  },
  {
   "cell_type": "code",
   "execution_count": 29,
   "metadata": {},
   "outputs": [],
   "source": [
    "import math as ma"
   ]
  },
  {
   "cell_type": "code",
   "execution_count": 30,
   "metadata": {},
   "outputs": [
    {
     "data": {
      "text/plain": [
       "8.717797887081348"
      ]
     },
     "execution_count": 30,
     "metadata": {},
     "output_type": "execute_result"
    }
   ],
   "source": [
    "ma.sqrt(76)"
   ]
  },
  {
   "cell_type": "code",
   "execution_count": 31,
   "metadata": {},
   "outputs": [
    {
     "data": {
      "text/plain": [
       "256.0"
      ]
     },
     "execution_count": 31,
     "metadata": {},
     "output_type": "execute_result"
    }
   ],
   "source": [
    "ma.pow(4,4)"
   ]
  },
  {
   "cell_type": "code",
   "execution_count": 32,
   "metadata": {},
   "outputs": [
    {
     "data": {
      "text/plain": [
       "76"
      ]
     },
     "execution_count": 32,
     "metadata": {},
     "output_type": "execute_result"
    }
   ],
   "source": [
    "ma.floor(76.98866)"
   ]
  },
  {
   "cell_type": "code",
   "execution_count": 33,
   "metadata": {},
   "outputs": [
    {
     "data": {
      "text/plain": [
       "-8665"
      ]
     },
     "execution_count": 33,
     "metadata": {},
     "output_type": "execute_result"
    }
   ],
   "source": [
    "ma.ceil(-8665.976)"
   ]
  },
  {
   "cell_type": "code",
   "execution_count": 34,
   "metadata": {},
   "outputs": [
    {
     "name": "stdout",
     "output_type": "stream",
     "text": [
      "sine value-math lib -0.8555199789753223\n",
      "cosine value-math lib -0.5984600690578581\n",
      "tan value-math lib -13.26622453436095\n",
      "hyperbolic sine value-math lib -0.9630455947463139\n",
      "Inverse sine-numpy in array [1.57079633 0.20135792 0.92729522]\n",
      "Hyperbolic tan value(math)-math lib 1.0\n",
      "Hyperbolic tan(numpy)  1.0\n",
      "Inverse tan-numpy in array [0.10033535 0.20273255 1.09861229]\n"
     ]
    }
   ],
   "source": [
    "print(\"sine value-math lib\",ma.sin(67))\n",
    "print(\"cosine value-math lib\",ma.cos(180))\n",
    "print(\"tan value-math lib\",ma.tan(187))\n",
    "print(\"hyperbolic sine value-math lib\",ma.sinh(-0.855))\n",
    "print(\"Inverse sine-numpy in array\",np.arcsin([1,0.2,0.8]))\n",
    "print(\"Hyperbolic tan value(math)-math lib\",ma.tanh(87))\n",
    "print(\"Hyperbolic tan(numpy) \",np.tanh(87))\n",
    "print(\"Inverse tan-numpy in array\",np.arctanh([0.1,0.2,0.8]))\n"
   ]
  },
  {
   "cell_type": "code",
   "execution_count": 35,
   "metadata": {},
   "outputs": [
    {
     "name": "stdout",
     "output_type": "stream",
     "text": [
      "[3 3 0]\n",
      "[9 9 0]\n",
      "18\n",
      "4.242640687119285\n"
     ]
    }
   ],
   "source": [
    "p=np.array([3,4,5])\n",
    "q=np.array([6,7,5])\n",
    "res=((q-p)**2).sum()\n",
    "print(q-p)\n",
    "print((q-p)**2)\n",
    "print(res)\n",
    "print(ma.sqrt(res))"
   ]
  },
  {
   "cell_type": "code",
   "execution_count": 36,
   "metadata": {},
   "outputs": [
    {
     "data": {
      "text/plain": [
       "0.7853981633974483"
      ]
     },
     "execution_count": 36,
     "metadata": {},
     "output_type": "execute_result"
    }
   ],
   "source": [
    "np.deg2rad(45)"
   ]
  },
  {
   "cell_type": "code",
   "execution_count": 37,
   "metadata": {},
   "outputs": [
    {
     "data": {
      "text/plain": [
       "56.43634282038609"
      ]
     },
     "execution_count": 37,
     "metadata": {},
     "output_type": "execute_result"
    }
   ],
   "source": [
    "np.rad2deg(0.985)"
   ]
  },
  {
   "cell_type": "code",
   "execution_count": 38,
   "metadata": {},
   "outputs": [
    {
     "data": {
      "text/plain": [
       "3265.8594322456925"
      ]
     },
     "execution_count": 38,
     "metadata": {},
     "output_type": "execute_result"
    }
   ],
   "source": [
    "np.degrees(57)"
   ]
  },
  {
   "cell_type": "code",
   "execution_count": 39,
   "metadata": {},
   "outputs": [
    {
     "data": {
      "text/plain": [
       "array([ 88., -33., -56.])"
      ]
     },
     "execution_count": 39,
     "metadata": {},
     "output_type": "execute_result"
    }
   ],
   "source": [
    "np.around([87.87456,-32.98,-56.090])"
   ]
  },
  {
   "cell_type": "code",
   "execution_count": 40,
   "metadata": {},
   "outputs": [],
   "source": [
    "a=np.array([-0.78,.17,30.98,-.78,98.0002])"
   ]
  },
  {
   "cell_type": "code",
   "execution_count": 41,
   "metadata": {},
   "outputs": [
    {
     "name": "stdout",
     "output_type": "stream",
     "text": [
      "[-0.78    0.17   30.98   -0.78   98.0002]\n",
      "truncate of the above array [-0.  0. 30. -0. 98.] \n",
      "\n",
      "fix of the above array [-0.  0. 30. -0. 98.] \n",
      "\n",
      "rint of the above array [-1.  0. 31. -1. 98.] \n",
      "\n"
     ]
    }
   ],
   "source": [
    "print(a)\n",
    "print(\"truncate of the above array\",np.trunc(a),\"\\n\")\n",
    "print(\"fix of the above array\",np.fix(a),\"\\n\")\n",
    "print(\"rint of the above array\",np.rint(a),\"\\n\")"
   ]
  },
  {
   "cell_type": "code",
   "execution_count": 42,
   "metadata": {},
   "outputs": [
    {
     "name": "stdout",
     "output_type": "stream",
     "text": [
      "[0.         1.         1.5849625  2.         2.80735492] \n",
      "\n",
      "[0.         0.30103    0.47712125 0.60205999 0.84509804] \n",
      "\n",
      "[  2.   4.   8.  16. 128.] \n",
      "\n"
     ]
    }
   ],
   "source": [
    "x=np.array([1,2,3,4,7])\n",
    "print(np.log2(x),\"\\n\")\n",
    "print(np.log10(x),\"\\n\")\n",
    "print(np.exp2(x),\"\\n\")"
   ]
  },
  {
   "cell_type": "code",
   "execution_count": 43,
   "metadata": {},
   "outputs": [
    {
     "name": "stdout",
     "output_type": "stream",
     "text": [
      "[0 1 2 3 4 5 6 7 8 9]\n",
      "45\n",
      "[ 0  1  4  9 16 25 36 49 64 81]\n",
      "[1 1 1 1 1 1 1 1 1]\n",
      "(array([0, 0, 0, 0, 0, 1, 1, 1, 1, 1], dtype=int32), array([0, 1, 2, 3, 4, 0, 1, 2, 3, 4], dtype=int32))\n",
      "65\n",
      "[ 90.   765.     0.9    1.34   9.8 ]\n",
      "[ 0  1  4  9 16 25 36 49 64 81]\n"
     ]
    }
   ],
   "source": [
    "ab=np.arange(10)\n",
    "bc=np.arange(10)\n",
    "print(ab)\n",
    "print(np.sum(ab))\n",
    "print(np.multiply(ab,bc))\n",
    "print(np.floor_divide(ab[1:],bc[1:]))\n",
    "print(np.divmod(ab,5),sep=\"\\n\")\n",
    "print(np.maximum(65,-878))\n",
    "ki=np.array([-90,-765,0.9,1.34,9.8])\n",
    "print(np.fabs(ki))\n",
    "print(np.square(ab))"
   ]
  },
  {
   "cell_type": "code",
   "execution_count": 44,
   "metadata": {},
   "outputs": [
    {
     "name": "stdout",
     "output_type": "stream",
     "text": [
      "[144  88  82  54]\n",
      "[54 68 48  8]\n",
      "[4455  780 1105  713]\n",
      "[396 312 260 124]\n"
     ]
    }
   ],
   "source": [
    "a=np.array([99,78,65,31])\n",
    "b=np.array([45,10,17,23])\n",
    "print(a+b,a-b,a*b,a*4,sep=\"\\n\")"
   ]
  },
  {
   "cell_type": "code",
   "execution_count": 51,
   "metadata": {},
   "outputs": [
    {
     "name": "stdout",
     "output_type": "stream",
     "text": [
      "[99 78 65 31] mean of a: 68.25 \n",
      "\n",
      "[45 10 17 23] median of b 20.0 \n",
      "\n",
      "mode of [2,2,4,5,6,77,77,12,77,88,99] ModeResult(mode=array([77]), count=array([3]))\n"
     ]
    }
   ],
   "source": [
    "from scipy import stats\n",
    "print(a,\"mean of a:\",np.mean(a),\"\\n\")\n",
    "print(b,\"median of b\",np.median(b),\"\\n\")\n",
    "print(\"mode of [2,2,4,5,6,77,77,12,77,88,99]\",stats.mode([2,2,4,5,6,77,77,12,77,88,99]))"
   ]
  },
  {
   "cell_type": "code",
   "execution_count": null,
   "metadata": {},
   "outputs": [],
   "source": []
  }
 ],
 "metadata": {
  "kernelspec": {
   "display_name": "Python 3",
   "language": "python",
   "name": "python3"
  },
  "language_info": {
   "codemirror_mode": {
    "name": "ipython",
    "version": 3
   },
   "file_extension": ".py",
   "mimetype": "text/x-python",
   "name": "python",
   "nbconvert_exporter": "python",
   "pygments_lexer": "ipython3",
   "version": "3.7.6"
  }
 },
 "nbformat": 4,
 "nbformat_minor": 4
}
