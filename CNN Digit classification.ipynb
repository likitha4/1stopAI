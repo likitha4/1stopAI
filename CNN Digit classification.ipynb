{
 "cells": [
  {
   "cell_type": "code",
   "execution_count": null,
   "metadata": {},
   "outputs": [],
   "source": [
    "import tensorflow as tf\n",
    "(x_train, y_train), (x_test, y_test) = tf.keras.datasets.mnist.load_data()\\r\\n\",\n",
    "x_train.shape\"\n",
    "\n",
    "import matplotlib.pyplot as plt\n",
    "%matplotlib inline\n",
    "fig, axs = plt.subplots(4, 4, figsize = (20, 20))\n",
    "plt.gray()\n",
    "for i, ax in enumerate(axs.flat):\n",
    "    ax.matshow(x_train[i])\\r\\n\",\n",
    "    ax.axis('off')\\r\\n\",\n",
    "    ax.set_title('Number {}'.format(y_train[i]))\n",
    "fig.show()\n",
    "\n",
    "\n",
    "\n",
    "x_train = x_train.reshape(x_train.shape[0], 28, 28, 1)\n",
    "x_test = x_test.reshape(x_test.shape[0], 28, 28, 1)\n",
    "input_shape = (28, 28, 1)\n",
    "\n",
    "x_train = x_train.astype('float32')\n",
    "x_test = x_test.astype('float32')\n",
    "x_train /= 255\\r\\n\",\n",
    "x_test /= 255\\r\\n\",\n",
    "print('x_train shape:', x_train.shape)\\r\\n\",\n",
    "print('Number of images in x_train', x_train.shape[0])\\r\\n\",\n",
    "print('Number of images in x_test', x_test.shape[0])\"\n",
    "\n",
    "\"from tensorflow.keras.models import Sequential\\r\\n\",\n",
    "\"from tensorflow.keras.layers import Dense, Conv2D, Dropout, Flatten, MaxPooling2D\\r\\n\",\n",
    "\"model = Sequential()\\r\\n\",\n",
    "\"model.add(Conv2D(28, kernel_size=(3,3), input_shape=input_shape))\\r\\n\",\n",
    "\"model.add(MaxPooling2D(pool_size=(2, 2)))\\r\\n\",\n",
    "\"model.add(Flatten()) \\r\\n\",\n",
    "\"model.add(Dense(128, activation=tf.nn.relu))\\r\\n\",\n",
    "\"model.add(Dropout(0.2))\\r\\n\",\n",
    "\"model.add(Dense(10,activation=tf.nn.softmax))\"\n",
    "\n",
    "\n",
    "model.compile(optimizer='adam', \\r\\n\",\n",
    "             loss='sparse_categorical_crossentropy', \\r\\n\",\n",
    "              metrics=['accuracy'])\\r\\n\",\n",
    "model.fit(x=x_train,y=y_train, epochs=1)\"\n",
    "\n",
    "model.evaluate(x_test, y_test)\n"
   ]
  }
 ],
 "metadata": {
  "kernelspec": {
   "display_name": "Python 3",
   "language": "python",
   "name": "python3"
  },
  "language_info": {
   "codemirror_mode": {
    "name": "ipython",
    "version": 3
   },
   "file_extension": ".py",
   "mimetype": "text/x-python",
   "name": "python",
   "nbconvert_exporter": "python",
   "pygments_lexer": "ipython3",
   "version": "3.7.6"
  }
 },
 "nbformat": 4,
 "nbformat_minor": 4
}
